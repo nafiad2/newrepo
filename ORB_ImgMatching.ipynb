{
  "nbformat": 4,
  "nbformat_minor": 0,
  "metadata": {
    "colab": {
      "provenance": [],
      "mount_file_id": "1RD1_9qipo2fbxPBa94RdRF93AMgGgTv0",
      "authorship_tag": "ABX9TyOIkGGhNH8++tFfNf6PudXq",
      "include_colab_link": true
    },
    "kernelspec": {
      "name": "python3",
      "display_name": "Python 3"
    },
    "language_info": {
      "name": "python"
    }
  },
  "cells": [
    {
      "cell_type": "markdown",
      "metadata": {
        "id": "view-in-github",
        "colab_type": "text"
      },
      "source": [
        "<a href=\"https://colab.research.google.com/github/nafiad2/newrepo/blob/main/ORB_ImgMatching.ipynb\" target=\"_parent\"><img src=\"https://colab.research.google.com/assets/colab-badge.svg\" alt=\"Open In Colab\"/></a>"
      ]
    },
    {
      "cell_type": "code",
      "source": [
        "from google.colab import drive\n",
        "drive.mount('/content/drive')"
      ],
      "metadata": {
        "colab": {
          "base_uri": "https://localhost:8080/"
        },
        "id": "gfwFOYC5OsDb",
        "outputId": "8a626884-5aea-44ee-d71b-2c28aa21037f"
      },
      "execution_count": 1,
      "outputs": [
        {
          "output_type": "stream",
          "name": "stdout",
          "text": [
            "Drive already mounted at /content/drive; to attempt to forcibly remount, call drive.mount(\"/content/drive\", force_remount=True).\n"
          ]
        }
      ]
    },
    {
      "cell_type": "code",
      "source": [
        "import cv2 as cv\n",
        "import numpy as np\n",
        "from google.colab.patches import cv2_imshow\n",
        "\n",
        "import cv2 as cv\n",
        "import numpy as np\n",
        "from google.colab.patches import cv2_imshow\n",
        "\n",
        "image1 = cv.imread('/content/drive/MyDrive/Colab Notebooks/Screen Shot 2024-02-22 at 16.40.49.png', cv.IMREAD_GRAYSCALE)\n",
        "image2 = cv.imread('/content/drive/MyDrive/Colab Notebooks/LAND.png', cv.IMREAD_GRAYSCALE)\n",
        "\n",
        "# Create ORB detector\n",
        "orb = cv.ORB_create()\n",
        "\n",
        "# Detect ORB keypoints and descriptors for both images\n",
        "kp1, descriptors1 = orb.detectAndCompute(image1, None)\n",
        "kp2, descriptors2 = orb.detectAndCompute(image2, None)\n",
        "\n",
        "# Print coordinates of keypoints from image 2\n",
        "print(\"Coordinates of keypoints from image 2:\")\n",
        "for kp in kp2:\n",
        "    print(\"x:\", kp.pt[0], \"y:\", kp.pt[1])\n",
        "\n",
        "# Create BFMatcher\n",
        "bf = cv.BFMatcher(cv.NORM_HAMMING, crossCheck=True)\n",
        "\n",
        "# Match descriptors\n",
        "matches = bf.match(descriptors1, descriptors2)\n",
        "matches = sorted(matches, key=lambda x: x.distance)\n",
        "\n",
        "# Draw matches\n",
        "matched_image = cv.drawMatches(image1, kp1, image2, kp2, matches[:10], None, flags=cv.DrawMatchesFlags_NOT_DRAW_SINGLE_POINTS)\n",
        "\n",
        "cv2_imshow(matched_image)\n",
        "cv.waitKey(0)\n",
        "cv.destroyAllWindows()\n",
        "\n"
      ],
      "metadata": {
        "colab": {
          "base_uri": "https://localhost:8080/",
          "height": 340
        },
        "id": "8G3bbvEtwZLk",
        "outputId": "f0a04f99-6b08-494c-963b-e14dc28b67cf"
      },
      "execution_count": 2,
      "outputs": [
        {
          "output_type": "stream",
          "name": "stdout",
          "text": [
            "Coordinates of keypoints from image 2:\n",
            "x: 94.0 y: 31.0\n",
            "x: 130.0 y: 31.0\n",
            "x: 95.0 y: 33.0\n",
            "x: 132.0 y: 34.0\n",
            "x: 96.0 y: 35.0\n",
            "x: 97.0 y: 37.0\n",
            "x: 134.0 y: 37.0\n",
            "x: 98.0 y: 39.0\n",
            "x: 136.0 y: 40.0\n"
          ]
        },
        {
          "output_type": "display_data",
          "data": {
            "text/plain": [
              "<PIL.Image.Image image mode=RGB size=312x144>"
            ],
            "image/png": "[encoded data removed]"
          },
          "metadata": {}
        }
      ]
    },
    {
      "cell_type": "code",
      "source": [
        "import cv2 as cv\n",
        "from google.colab.patches import cv2_imshow\n",
        "\n",
        "# Load images\n",
        "image1 = cv.imread('/content/drive/MyDrive/Colab Notebooks/A.png', cv.IMREAD_GRAYSCALE)\n",
        "image2 = cv.imread('/content/drive/MyDrive/Colab Notebooks/LAND.png', cv.IMREAD_GRAYSCALE)\n",
        "\n",
        "# Detect MIL-DTL-7788 keypoints\n",
        "# Note: implement detect_mil_kp() function\n",
        "#\n",
        "kp1 = detect_mil_kp(image1)\n",
        "kp2 = detect_mil_kp(image2)\n",
        "\n",
        "# Create dummy descriptors (as MIL-DTL-7788 does not directly provide descriptors)\n",
        "descriptors1 = np.zeros((len(kp1), 128), dtype=np.uint8)\n",
        "descriptors2 = np.zeros((len(kp2), 128), dtype=np.uint8)\n",
        "\n",
        "# Print coordinates of keypoints from image 2\n",
        "print(\"Coordinates of keypoints from image 2:\")\n",
        "for kp in kp2:\n",
        "    print(\"x:\", kp.pt[0], \"y:\", kp.pt[1])\n",
        "\n",
        "# Create BFMatcher\n",
        "bf = cv.BFMatcher(cv.NORM_HAMMING, crossCheck=True)\n",
        "\n",
        "# Match descriptors\n",
        "matches = bf.match(descriptors1, descriptors2)\n",
        "matches = sorted(matches, key=lambda x: x.distance)\n",
        "\n",
        "# Draw matches\n",
        "matched_image = cv.drawMatches(image1, kp1, image2, kp2, matches[:10], None, flags=cv.DrawMatchesFlags_NOT_DRAW_SINGLE_POINTS)\n",
        "\n",
        "cv2_imshow(matched_image)\n",
        "cv.waitKey(0)\n",
        "cv.destroyAllWindows()\n"
      ],
      "metadata": {
        "id": "alq8P4kUzPtr"
      },
      "execution_count": null,
      "outputs": []
    }
  ]
}